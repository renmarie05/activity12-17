{
  "nbformat": 4,
  "nbformat_minor": 0,
  "metadata": {
    "colab": {
      "provenance": [],
      "toc_visible": true
    },
    "kernelspec": {
      "name": "python3",
      "display_name": "Python 3"
    },
    "language_info": {
      "name": "python"
    }
  },
  "cells": [
    {
      "cell_type": "code",
      "execution_count": null,
      "metadata": {
        "colab": {
          "base_uri": "https://localhost:8080/"
        },
        "id": "AL2fbTecWWM3",
        "outputId": "53739647-06f7-463f-adc8-3ddf2f713e3c"
      },
      "outputs": [
        {
          "output_type": "stream",
          "name": "stdout",
          "text": [
            "Drive already mounted at /content/drive; to attempt to forcibly remount, call drive.mount(\"/content/drive\", force_remount=True).\n"
          ]
        }
      ],
      "source": [
        "from google.colab import drive\n",
        "drive.mount('/content/drive')"
      ]
    },
    {
      "cell_type": "code",
      "source": [
        "import pandas as pd"
      ],
      "metadata": {
        "id": "WAU50m5nXUzN"
      },
      "execution_count": null,
      "outputs": []
    },
    {
      "cell_type": "code",
      "source": [
        "filename = '/content/drive/MyDrive/rr/CalIt2.csv'\n",
        "df = pd.read_csv(filename)\n"
      ],
      "metadata": {
        "id": "Y24Qig4EXZxd"
      },
      "execution_count": null,
      "outputs": []
    },
    {
      "cell_type": "code",
      "source": [
        "df.head()"
      ],
      "metadata": {
        "colab": {
          "base_uri": "https://localhost:8080/",
          "height": 206
        },
        "id": "Lg6rUejyXg9F",
        "outputId": "b8772348-62bb-4f72-ae57-e5468569da48"
      },
      "execution_count": null,
      "outputs": [
        {
          "output_type": "execute_result",
          "data": {
            "text/plain": [
              "   7  07/24/05  00:00:00  0\n",
              "0  9  07/24/05  00:00:00  0\n",
              "1  7  07/24/05  00:30:00  1\n",
              "2  9  07/24/05  00:30:00  0\n",
              "3  7  07/24/05  01:00:00  0\n",
              "4  9  07/24/05  01:00:00  0"
            ],
            "text/html": [
              "\n",
              "  <div id=\"df-eec37979-c0c0-47f7-b898-827cdbd2e261\">\n",
              "    <div class=\"colab-df-container\">\n",
              "      <div>\n",
              "<style scoped>\n",
              "    .dataframe tbody tr th:only-of-type {\n",
              "        vertical-align: middle;\n",
              "    }\n",
              "\n",
              "    .dataframe tbody tr th {\n",
              "        vertical-align: top;\n",
              "    }\n",
              "\n",
              "    .dataframe thead th {\n",
              "        text-align: right;\n",
              "    }\n",
              "</style>\n",
              "<table border=\"1\" class=\"dataframe\">\n",
              "  <thead>\n",
              "    <tr style=\"text-align: right;\">\n",
              "      <th></th>\n",
              "      <th>7</th>\n",
              "      <th>07/24/05</th>\n",
              "      <th>00:00:00</th>\n",
              "      <th>0</th>\n",
              "    </tr>\n",
              "  </thead>\n",
              "  <tbody>\n",
              "    <tr>\n",
              "      <th>0</th>\n",
              "      <td>9</td>\n",
              "      <td>07/24/05</td>\n",
              "      <td>00:00:00</td>\n",
              "      <td>0</td>\n",
              "    </tr>\n",
              "    <tr>\n",
              "      <th>1</th>\n",
              "      <td>7</td>\n",
              "      <td>07/24/05</td>\n",
              "      <td>00:30:00</td>\n",
              "      <td>1</td>\n",
              "    </tr>\n",
              "    <tr>\n",
              "      <th>2</th>\n",
              "      <td>9</td>\n",
              "      <td>07/24/05</td>\n",
              "      <td>00:30:00</td>\n",
              "      <td>0</td>\n",
              "    </tr>\n",
              "    <tr>\n",
              "      <th>3</th>\n",
              "      <td>7</td>\n",
              "      <td>07/24/05</td>\n",
              "      <td>01:00:00</td>\n",
              "      <td>0</td>\n",
              "    </tr>\n",
              "    <tr>\n",
              "      <th>4</th>\n",
              "      <td>9</td>\n",
              "      <td>07/24/05</td>\n",
              "      <td>01:00:00</td>\n",
              "      <td>0</td>\n",
              "    </tr>\n",
              "  </tbody>\n",
              "</table>\n",
              "</div>\n",
              "      <button class=\"colab-df-convert\" onclick=\"convertToInteractive('df-eec37979-c0c0-47f7-b898-827cdbd2e261')\"\n",
              "              title=\"Convert this dataframe to an interactive table.\"\n",
              "              style=\"display:none;\">\n",
              "        \n",
              "  <svg xmlns=\"http://www.w3.org/2000/svg\" height=\"24px\"viewBox=\"0 0 24 24\"\n",
              "       width=\"24px\">\n",
              "    <path d=\"M0 0h24v24H0V0z\" fill=\"none\"/>\n",
              "    <path d=\"M18.56 5.44l.94 2.06.94-2.06 2.06-.94-2.06-.94-.94-2.06-.94 2.06-2.06.94zm-11 1L8.5 8.5l.94-2.06 2.06-.94-2.06-.94L8.5 2.5l-.94 2.06-2.06.94zm10 10l.94 2.06.94-2.06 2.06-.94-2.06-.94-.94-2.06-.94 2.06-2.06.94z\"/><path d=\"M17.41 7.96l-1.37-1.37c-.4-.4-.92-.59-1.43-.59-.52 0-1.04.2-1.43.59L10.3 9.45l-7.72 7.72c-.78.78-.78 2.05 0 2.83L4 21.41c.39.39.9.59 1.41.59.51 0 1.02-.2 1.41-.59l7.78-7.78 2.81-2.81c.8-.78.8-2.07 0-2.86zM5.41 20L4 18.59l7.72-7.72 1.47 1.35L5.41 20z\"/>\n",
              "  </svg>\n",
              "      </button>\n",
              "      \n",
              "  <style>\n",
              "    .colab-df-container {\n",
              "      display:flex;\n",
              "      flex-wrap:wrap;\n",
              "      gap: 12px;\n",
              "    }\n",
              "\n",
              "    .colab-df-convert {\n",
              "      background-color: #E8F0FE;\n",
              "      border: none;\n",
              "      border-radius: 50%;\n",
              "      cursor: pointer;\n",
              "      display: none;\n",
              "      fill: #1967D2;\n",
              "      height: 32px;\n",
              "      padding: 0 0 0 0;\n",
              "      width: 32px;\n",
              "    }\n",
              "\n",
              "    .colab-df-convert:hover {\n",
              "      background-color: #E2EBFA;\n",
              "      box-shadow: 0px 1px 2px rgba(60, 64, 67, 0.3), 0px 1px 3px 1px rgba(60, 64, 67, 0.15);\n",
              "      fill: #174EA6;\n",
              "    }\n",
              "\n",
              "    [theme=dark] .colab-df-convert {\n",
              "      background-color: #3B4455;\n",
              "      fill: #D2E3FC;\n",
              "    }\n",
              "\n",
              "    [theme=dark] .colab-df-convert:hover {\n",
              "      background-color: #434B5C;\n",
              "      box-shadow: 0px 1px 3px 1px rgba(0, 0, 0, 0.15);\n",
              "      filter: drop-shadow(0px 1px 2px rgba(0, 0, 0, 0.3));\n",
              "      fill: #FFFFFF;\n",
              "    }\n",
              "  </style>\n",
              "\n",
              "      <script>\n",
              "        const buttonEl =\n",
              "          document.querySelector('#df-eec37979-c0c0-47f7-b898-827cdbd2e261 button.colab-df-convert');\n",
              "        buttonEl.style.display =\n",
              "          google.colab.kernel.accessAllowed ? 'block' : 'none';\n",
              "\n",
              "        async function convertToInteractive(key) {\n",
              "          const element = document.querySelector('#df-eec37979-c0c0-47f7-b898-827cdbd2e261');\n",
              "          const dataTable =\n",
              "            await google.colab.kernel.invokeFunction('convertToInteractive',\n",
              "                                                     [key], {});\n",
              "          if (!dataTable) return;\n",
              "\n",
              "          const docLinkHtml = 'Like what you see? Visit the ' +\n",
              "            '<a target=\"_blank\" href=https://colab.research.google.com/notebooks/data_table.ipynb>data table notebook</a>'\n",
              "            + ' to learn more about interactive tables.';\n",
              "          element.innerHTML = '';\n",
              "          dataTable['output_type'] = 'display_data';\n",
              "          await google.colab.output.renderOutput(dataTable, element);\n",
              "          const docLink = document.createElement('div');\n",
              "          docLink.innerHTML = docLinkHtml;\n",
              "          element.appendChild(docLink);\n",
              "        }\n",
              "      </script>\n",
              "    </div>\n",
              "  </div>\n",
              "  "
            ]
          },
          "metadata": {},
          "execution_count": 5
        }
      ]
    },
    {
      "cell_type": "code",
      "source": [
        "df.columns = ['Flow_ID', 'Date', 'Time', 'Count']"
      ],
      "metadata": {
        "id": "DLBBtCsWXnDH"
      },
      "execution_count": null,
      "outputs": []
    },
    {
      "cell_type": "code",
      "source": [
        "\n",
        "df.head()"
      ],
      "metadata": {
        "colab": {
          "base_uri": "https://localhost:8080/",
          "height": 206
        },
        "id": "ROPMX8gcXqOW",
        "outputId": "e6a0feb2-0bf1-450e-fb7b-3fcf87620a45"
      },
      "execution_count": null,
      "outputs": [
        {
          "output_type": "execute_result",
          "data": {
            "text/plain": [
              "   Flow_ID      Date      Time  Count\n",
              "0        9  07/24/05  00:00:00      0\n",
              "1        7  07/24/05  00:30:00      1\n",
              "2        9  07/24/05  00:30:00      0\n",
              "3        7  07/24/05  01:00:00      0\n",
              "4        9  07/24/05  01:00:00      0"
            ],
            "text/html": [
              "\n",
              "  <div id=\"df-2e5c7b98-8b7b-4dad-b320-36716d01dc94\">\n",
              "    <div class=\"colab-df-container\">\n",
              "      <div>\n",
              "<style scoped>\n",
              "    .dataframe tbody tr th:only-of-type {\n",
              "        vertical-align: middle;\n",
              "    }\n",
              "\n",
              "    .dataframe tbody tr th {\n",
              "        vertical-align: top;\n",
              "    }\n",
              "\n",
              "    .dataframe thead th {\n",
              "        text-align: right;\n",
              "    }\n",
              "</style>\n",
              "<table border=\"1\" class=\"dataframe\">\n",
              "  <thead>\n",
              "    <tr style=\"text-align: right;\">\n",
              "      <th></th>\n",
              "      <th>Flow_ID</th>\n",
              "      <th>Date</th>\n",
              "      <th>Time</th>\n",
              "      <th>Count</th>\n",
              "    </tr>\n",
              "  </thead>\n",
              "  <tbody>\n",
              "    <tr>\n",
              "      <th>0</th>\n",
              "      <td>9</td>\n",
              "      <td>07/24/05</td>\n",
              "      <td>00:00:00</td>\n",
              "      <td>0</td>\n",
              "    </tr>\n",
              "    <tr>\n",
              "      <th>1</th>\n",
              "      <td>7</td>\n",
              "      <td>07/24/05</td>\n",
              "      <td>00:30:00</td>\n",
              "      <td>1</td>\n",
              "    </tr>\n",
              "    <tr>\n",
              "      <th>2</th>\n",
              "      <td>9</td>\n",
              "      <td>07/24/05</td>\n",
              "      <td>00:30:00</td>\n",
              "      <td>0</td>\n",
              "    </tr>\n",
              "    <tr>\n",
              "      <th>3</th>\n",
              "      <td>7</td>\n",
              "      <td>07/24/05</td>\n",
              "      <td>01:00:00</td>\n",
              "      <td>0</td>\n",
              "    </tr>\n",
              "    <tr>\n",
              "      <th>4</th>\n",
              "      <td>9</td>\n",
              "      <td>07/24/05</td>\n",
              "      <td>01:00:00</td>\n",
              "      <td>0</td>\n",
              "    </tr>\n",
              "  </tbody>\n",
              "</table>\n",
              "</div>\n",
              "      <button class=\"colab-df-convert\" onclick=\"convertToInteractive('df-2e5c7b98-8b7b-4dad-b320-36716d01dc94')\"\n",
              "              title=\"Convert this dataframe to an interactive table.\"\n",
              "              style=\"display:none;\">\n",
              "        \n",
              "  <svg xmlns=\"http://www.w3.org/2000/svg\" height=\"24px\"viewBox=\"0 0 24 24\"\n",
              "       width=\"24px\">\n",
              "    <path d=\"M0 0h24v24H0V0z\" fill=\"none\"/>\n",
              "    <path d=\"M18.56 5.44l.94 2.06.94-2.06 2.06-.94-2.06-.94-.94-2.06-.94 2.06-2.06.94zm-11 1L8.5 8.5l.94-2.06 2.06-.94-2.06-.94L8.5 2.5l-.94 2.06-2.06.94zm10 10l.94 2.06.94-2.06 2.06-.94-2.06-.94-.94-2.06-.94 2.06-2.06.94z\"/><path d=\"M17.41 7.96l-1.37-1.37c-.4-.4-.92-.59-1.43-.59-.52 0-1.04.2-1.43.59L10.3 9.45l-7.72 7.72c-.78.78-.78 2.05 0 2.83L4 21.41c.39.39.9.59 1.41.59.51 0 1.02-.2 1.41-.59l7.78-7.78 2.81-2.81c.8-.78.8-2.07 0-2.86zM5.41 20L4 18.59l7.72-7.72 1.47 1.35L5.41 20z\"/>\n",
              "  </svg>\n",
              "      </button>\n",
              "      \n",
              "  <style>\n",
              "    .colab-df-container {\n",
              "      display:flex;\n",
              "      flex-wrap:wrap;\n",
              "      gap: 12px;\n",
              "    }\n",
              "\n",
              "    .colab-df-convert {\n",
              "      background-color: #E8F0FE;\n",
              "      border: none;\n",
              "      border-radius: 50%;\n",
              "      cursor: pointer;\n",
              "      display: none;\n",
              "      fill: #1967D2;\n",
              "      height: 32px;\n",
              "      padding: 0 0 0 0;\n",
              "      width: 32px;\n",
              "    }\n",
              "\n",
              "    .colab-df-convert:hover {\n",
              "      background-color: #E2EBFA;\n",
              "      box-shadow: 0px 1px 2px rgba(60, 64, 67, 0.3), 0px 1px 3px 1px rgba(60, 64, 67, 0.15);\n",
              "      fill: #174EA6;\n",
              "    }\n",
              "\n",
              "    [theme=dark] .colab-df-convert {\n",
              "      background-color: #3B4455;\n",
              "      fill: #D2E3FC;\n",
              "    }\n",
              "\n",
              "    [theme=dark] .colab-df-convert:hover {\n",
              "      background-color: #434B5C;\n",
              "      box-shadow: 0px 1px 3px 1px rgba(0, 0, 0, 0.15);\n",
              "      filter: drop-shadow(0px 1px 2px rgba(0, 0, 0, 0.3));\n",
              "      fill: #FFFFFF;\n",
              "    }\n",
              "  </style>\n",
              "\n",
              "      <script>\n",
              "        const buttonEl =\n",
              "          document.querySelector('#df-2e5c7b98-8b7b-4dad-b320-36716d01dc94 button.colab-df-convert');\n",
              "        buttonEl.style.display =\n",
              "          google.colab.kernel.accessAllowed ? 'block' : 'none';\n",
              "\n",
              "        async function convertToInteractive(key) {\n",
              "          const element = document.querySelector('#df-2e5c7b98-8b7b-4dad-b320-36716d01dc94');\n",
              "          const dataTable =\n",
              "            await google.colab.kernel.invokeFunction('convertToInteractive',\n",
              "                                                     [key], {});\n",
              "          if (!dataTable) return;\n",
              "\n",
              "          const docLinkHtml = 'Like what you see? Visit the ' +\n",
              "            '<a target=\"_blank\" href=https://colab.research.google.com/notebooks/data_table.ipynb>data table notebook</a>'\n",
              "            + ' to learn more about interactive tables.';\n",
              "          element.innerHTML = '';\n",
              "          dataTable['output_type'] = 'display_data';\n",
              "          await google.colab.output.renderOutput(dataTable, element);\n",
              "          const docLink = document.createElement('div');\n",
              "          docLink.innerHTML = docLinkHtml;\n",
              "          element.appendChild(docLink);\n",
              "        }\n",
              "      </script>\n",
              "    </div>\n",
              "  </div>\n",
              "  "
            ]
          },
          "metadata": {},
          "execution_count": 7
        }
      ]
    },
    {
      "cell_type": "code",
      "source": [
        "selected_data = df[(df['Date'] == '07/24/05') & (df['Flow_ID'] == 7)]\n",
        "print(\"Selected data:\")\n",
        "print(selected_data)"
      ],
      "metadata": {
        "colab": {
          "base_uri": "https://localhost:8080/"
        },
        "id": "VTpA9W80XtBU",
        "outputId": "2dbf71a7-fb57-4234-a999-063c5d1d6b78"
      },
      "execution_count": null,
      "outputs": [
        {
          "output_type": "stream",
          "name": "stdout",
          "text": [
            "Selected data:\n",
            "    Flow_ID      Date      Time  Count\n",
            "1         7  07/24/05  00:30:00      1\n",
            "3         7  07/24/05  01:00:00      0\n",
            "5         7  07/24/05  01:30:00      0\n",
            "7         7  07/24/05  02:00:00      0\n",
            "9         7  07/24/05  02:30:00      2\n",
            "11        7  07/24/05  03:00:00      0\n",
            "13        7  07/24/05  03:30:00      0\n",
            "15        7  07/24/05  04:00:00      0\n",
            "17        7  07/24/05  04:30:00      0\n",
            "19        7  07/24/05  05:00:00      0\n",
            "21        7  07/24/05  05:30:00      0\n",
            "23        7  07/24/05  06:00:00      0\n",
            "25        7  07/24/05  06:30:00      0\n",
            "27        7  07/24/05  07:00:00      0\n",
            "29        7  07/24/05  07:30:00      2\n",
            "31        7  07/24/05  08:00:00      0\n",
            "33        7  07/24/05  08:30:00      0\n",
            "35        7  07/24/05  09:00:00      0\n",
            "37        7  07/24/05  09:30:00      1\n",
            "39        7  07/24/05  10:00:00      0\n",
            "41        7  07/24/05  10:30:00      0\n",
            "43        7  07/24/05  11:00:00      1\n",
            "45        7  07/24/05  11:30:00      0\n",
            "47        7  07/24/05  12:00:00      0\n",
            "49        7  07/24/05  12:30:00      0\n",
            "51        7  07/24/05  13:00:00      0\n",
            "53        7  07/24/05  13:30:00      0\n",
            "55        7  07/24/05  14:00:00      0\n",
            "57        7  07/24/05  14:30:00      0\n",
            "59        7  07/24/05  15:00:00      0\n",
            "61        7  07/24/05  15:30:00      0\n",
            "63        7  07/24/05  16:00:00      0\n",
            "65        7  07/24/05  16:30:00      0\n",
            "67        7  07/24/05  17:00:00      1\n",
            "69        7  07/24/05  17:30:00      2\n",
            "71        7  07/24/05  18:00:00      4\n",
            "73        7  07/24/05  18:30:00      1\n",
            "75        7  07/24/05  19:00:00      2\n",
            "77        7  07/24/05  19:30:00      1\n",
            "79        7  07/24/05  20:00:00      0\n",
            "81        7  07/24/05  20:30:00      0\n",
            "83        7  07/24/05  21:00:00      3\n",
            "85        7  07/24/05  21:30:00      2\n",
            "87        7  07/24/05  22:00:00      0\n",
            "89        7  07/24/05  22:30:00      0\n",
            "91        7  07/24/05  23:00:00      2\n",
            "93        7  07/24/05  23:30:00      0\n"
          ]
        }
      ]
    },
    {
      "cell_type": "code",
      "source": [
        "top10 = selected_data.sort_values('Count', ascending=False).head(10)\n",
        "print(\"\\nTop 10 rows:\")\n",
        "print(top10)\n"
      ],
      "metadata": {
        "colab": {
          "base_uri": "https://localhost:8080/"
        },
        "id": "5JsD3m5OXwfu",
        "outputId": "f7d22beb-118a-455a-9406-cd8a4be9738f"
      },
      "execution_count": null,
      "outputs": [
        {
          "output_type": "stream",
          "name": "stdout",
          "text": [
            "\n",
            "Top 10 rows:\n",
            "    Flow_ID      Date      Time  Count\n",
            "71        7  07/24/05  18:00:00      4\n",
            "83        7  07/24/05  21:00:00      3\n",
            "91        7  07/24/05  23:00:00      2\n",
            "9         7  07/24/05  02:30:00      2\n",
            "85        7  07/24/05  21:30:00      2\n",
            "69        7  07/24/05  17:30:00      2\n",
            "29        7  07/24/05  07:30:00      2\n",
            "75        7  07/24/05  19:00:00      2\n",
            "1         7  07/24/05  00:30:00      1\n",
            "43        7  07/24/05  11:00:00      1\n"
          ]
        }
      ]
    },
    {
      "cell_type": "code",
      "source": [
        "lowest_value = top10['Count'].min()\n",
        "top10['Adjusted_Count'] = top10['Count'].apply(lambda x: x - lowest_value)\n",
        "average_count = top10['Adjusted_Count'].mean()\n",
        "print(\"\\nAverage adjusted count:\")\n",
        "print(average_count)\n"
      ],
      "metadata": {
        "colab": {
          "base_uri": "https://localhost:8080/"
        },
        "id": "eweXnimtX1HT",
        "outputId": "55b60b06-7f71-476a-81b2-d784ceae1813"
      },
      "execution_count": null,
      "outputs": [
        {
          "output_type": "stream",
          "name": "stdout",
          "text": [
            "\n",
            "Average adjusted count:\n",
            "1.1\n"
          ]
        }
      ]
    },
    {
      "cell_type": "code",
      "source": [
        "august_data = df[(df['Date'].str.startswith('08/')) & (df['Flow_ID'] == 7)]\n",
        "print(\"\\nAugust data:\")\n",
        "print(august_data)"
      ],
      "metadata": {
        "colab": {
          "base_uri": "https://localhost:8080/"
        },
        "id": "hfwxTxf4X4Gk",
        "outputId": "895e6aa1-08fc-4c6d-bd2b-391e3cba14ba"
      },
      "execution_count": null,
      "outputs": [
        {
          "output_type": "stream",
          "name": "stdout",
          "text": [
            "\n",
            "August data:\n",
            "      Flow_ID      Date      Time  Count\n",
            "767         7  08/01/05  00:00:00      1\n",
            "769         7  08/01/05  00:30:00      0\n",
            "771         7  08/01/05  01:00:00      0\n",
            "773         7  08/01/05  01:30:00      0\n",
            "775         7  08/01/05  02:00:00      0\n",
            "...       ...       ...       ...    ...\n",
            "3733        7  08/31/05  21:30:00      0\n",
            "3735        7  08/31/05  22:00:00      2\n",
            "3737        7  08/31/05  22:30:00      1\n",
            "3739        7  08/31/05  23:00:00      0\n",
            "3741        7  08/31/05  23:30:00      2\n",
            "\n",
            "[1488 rows x 4 columns]\n"
          ]
        }
      ]
    },
    {
      "cell_type": "code",
      "source": [
        "max_count_per_date = august_data.groupby('Date')['Count'].max()\n",
        "print(\"\\nMaximum count per date:\")\n",
        "print(max_count_per_date)"
      ],
      "metadata": {
        "id": "nDMzdSNTX8OI",
        "outputId": "f9810e38-dafa-4d0b-de4f-4c1b5e655831",
        "colab": {
          "base_uri": "https://localhost:8080/"
        }
      },
      "execution_count": null,
      "outputs": [
        {
          "output_type": "stream",
          "name": "stdout",
          "text": [
            "\n",
            "Maximum count per date:\n",
            "Date\n",
            "08/01/05    18\n",
            "08/02/05    16\n",
            "08/03/05    26\n",
            "08/04/05    40\n",
            "08/05/05    17\n",
            "08/06/05     8\n",
            "08/07/05     3\n",
            "08/08/05    16\n",
            "08/09/05    19\n",
            "08/10/05    25\n",
            "08/11/05    16\n",
            "08/12/05    21\n",
            "08/13/05     5\n",
            "08/14/05     3\n",
            "08/15/05    17\n",
            "08/16/05    24\n",
            "08/17/05    22\n",
            "08/18/05    39\n",
            "08/19/05    23\n",
            "08/20/05     3\n",
            "08/21/05     4\n",
            "08/22/05    23\n",
            "08/23/05    25\n",
            "08/24/05    17\n",
            "08/25/05    24\n",
            "08/26/05    22\n",
            "08/27/05     3\n",
            "08/28/05     7\n",
            "08/29/05    15\n",
            "08/30/05    47\n",
            "08/31/05    19\n",
            "Name: Count, dtype: int64\n"
          ]
        }
      ]
    }
  ]
}